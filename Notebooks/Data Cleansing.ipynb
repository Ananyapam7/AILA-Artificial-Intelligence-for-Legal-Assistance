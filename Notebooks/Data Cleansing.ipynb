{
 "cells": [
  {
   "cell_type": "code",
   "execution_count": 1,
   "metadata": {},
   "outputs": [
    {
     "name": "stderr",
     "output_type": "stream",
     "text": [
      "In /home/ananyapam/.local/lib/python3.6/site-packages/matplotlib/mpl-data/stylelib/_classic_test.mplstyle: \n",
      "The text.latex.preview rcparam was deprecated in Matplotlib 3.3 and will be removed two minor releases later.\n",
      "In /home/ananyapam/.local/lib/python3.6/site-packages/matplotlib/mpl-data/stylelib/_classic_test.mplstyle: \n",
      "The mathtext.fallback_to_cm rcparam was deprecated in Matplotlib 3.3 and will be removed two minor releases later.\n",
      "In /home/ananyapam/.local/lib/python3.6/site-packages/matplotlib/mpl-data/stylelib/_classic_test.mplstyle: Support for setting the 'mathtext.fallback_to_cm' rcParam is deprecated since 3.3 and will be removed two minor releases later; use 'mathtext.fallback : 'cm' instead.\n",
      "In /home/ananyapam/.local/lib/python3.6/site-packages/matplotlib/mpl-data/stylelib/_classic_test.mplstyle: \n",
      "The validate_bool_maybe_none function was deprecated in Matplotlib 3.3 and will be removed two minor releases later.\n",
      "In /home/ananyapam/.local/lib/python3.6/site-packages/matplotlib/mpl-data/stylelib/_classic_test.mplstyle: \n",
      "The savefig.jpeg_quality rcparam was deprecated in Matplotlib 3.3 and will be removed two minor releases later.\n",
      "In /home/ananyapam/.local/lib/python3.6/site-packages/matplotlib/mpl-data/stylelib/_classic_test.mplstyle: \n",
      "The keymap.all_axes rcparam was deprecated in Matplotlib 3.3 and will be removed two minor releases later.\n",
      "In /home/ananyapam/.local/lib/python3.6/site-packages/matplotlib/mpl-data/stylelib/_classic_test.mplstyle: \n",
      "The animation.avconv_path rcparam was deprecated in Matplotlib 3.3 and will be removed two minor releases later.\n",
      "In /home/ananyapam/.local/lib/python3.6/site-packages/matplotlib/mpl-data/stylelib/_classic_test.mplstyle: \n",
      "The animation.avconv_args rcparam was deprecated in Matplotlib 3.3 and will be removed two minor releases later.\n"
     ]
    }
   ],
   "source": [
    "import glob\n",
    "import functools\n",
    "import datetime as dt\n",
    "import pandas as pd\n",
    "import numpy as np\n",
    "import matplotlib.pyplot as plt\n",
    "import seaborn as sns\n",
    "import os\n",
    "import random\n",
    "import re"
   ]
  },
  {
   "cell_type": "code",
   "execution_count": 3,
   "metadata": {},
   "outputs": [],
   "source": [
    "import os #Reading the data\n",
    "import pandas as pd\n",
    "\n",
    "#arr = os.listdir(\"Object_casedocs/\")\n",
    "#print(arr)\n",
    "\n",
    "#notebook_path = os.path.abspath(\"LegalAI_Similar_Case_Matching.ipynb\")\n",
    "\n",
    "frames = []\n",
    "frames = [os.path.abspath(os.path.join(\"Object_casedocs/\", p)) for p in os.listdir(\"Object_casedocs/\")]\n",
    "\n",
    "#path = os.path.join(os.path.dirname(notebook_path), \"Object_casedocs/\")\n",
    "\n",
    "    \n",
    "#df = pd.concat(frames, axis=1)\n",
    "#df.to_csv('output.txt', sep='\\t')"
   ]
  },
  {
   "cell_type": "code",
   "execution_count": 4,
   "metadata": {},
   "outputs": [],
   "source": [
    "import glob\n",
    "import csv\n",
    "\n",
    "read_files = glob.glob('Object_casedocs/*')\n",
    "\n",
    "with open(\"object_casedocs.csv\", \"w\") as outfile:\n",
    "    w=csv.writer(outfile)\n",
    "    for f in read_files:\n",
    "        with open(f, \"r\") as infile:\n",
    "            w.writerow([\" \".join([line.strip() for line in infile])])"
   ]
  },
  {
   "cell_type": "code",
   "execution_count": 5,
   "metadata": {},
   "outputs": [],
   "source": [
    "df = pd.read_csv('object_casedocs.csv')\n",
    "df.columns = [\"Text\"]"
   ]
  },
  {
   "cell_type": "code",
   "execution_count": 6,
   "metadata": {},
   "outputs": [
    {
     "data": {
      "text/html": [
       "<div>\n",
       "<style scoped>\n",
       "    .dataframe tbody tr th:only-of-type {\n",
       "        vertical-align: middle;\n",
       "    }\n",
       "\n",
       "    .dataframe tbody tr th {\n",
       "        vertical-align: top;\n",
       "    }\n",
       "\n",
       "    .dataframe thead th {\n",
       "        text-align: right;\n",
       "    }\n",
       "</style>\n",
       "<table border=\"1\" class=\"dataframe\">\n",
       "  <thead>\n",
       "    <tr style=\"text-align: right;\">\n",
       "      <th></th>\n",
       "      <th>Text</th>\n",
       "    </tr>\n",
       "  </thead>\n",
       "  <tbody>\n",
       "    <tr>\n",
       "      <th>0</th>\n",
       "      <td>Mangesh v State Of Maharashtra Supreme Court o...</td>\n",
       "    </tr>\n",
       "    <tr>\n",
       "      <th>1</th>\n",
       "      <td>East India Tobacco Company v State of Andhra P...</td>\n",
       "    </tr>\n",
       "    <tr>\n",
       "      <th>2</th>\n",
       "      <td>Mahavir Prashad Gupta and Another v State of N...</td>\n",
       "    </tr>\n",
       "    <tr>\n",
       "      <th>3</th>\n",
       "      <td>Uptron India Limited v Shammi Bhan and Another...</td>\n",
       "    </tr>\n",
       "    <tr>\n",
       "      <th>4</th>\n",
       "      <td>Shri Bodhisattwa Gautam v Miss Subhra Chakrabo...</td>\n",
       "    </tr>\n",
       "  </tbody>\n",
       "</table>\n",
       "</div>"
      ],
      "text/plain": [
       "                                                Text\n",
       "0  Mangesh v State Of Maharashtra Supreme Court o...\n",
       "1  East India Tobacco Company v State of Andhra P...\n",
       "2  Mahavir Prashad Gupta and Another v State of N...\n",
       "3  Uptron India Limited v Shammi Bhan and Another...\n",
       "4  Shri Bodhisattwa Gautam v Miss Subhra Chakrabo..."
      ]
     },
     "execution_count": 6,
     "metadata": {},
     "output_type": "execute_result"
    }
   ],
   "source": [
    "df.head()"
   ]
  },
  {
   "cell_type": "code",
   "execution_count": 7,
   "metadata": {},
   "outputs": [
    {
     "data": {
      "text/plain": [
       "2913"
      ]
     },
     "execution_count": 7,
     "metadata": {},
     "output_type": "execute_result"
    }
   ],
   "source": [
    "len(df)"
   ]
  },
  {
   "cell_type": "code",
   "execution_count": 8,
   "metadata": {},
   "outputs": [
    {
     "data": {
      "text/plain": [
       "(2913, 1)"
      ]
     },
     "execution_count": 8,
     "metadata": {},
     "output_type": "execute_result"
    }
   ],
   "source": [
    "df.shape"
   ]
  },
  {
   "cell_type": "code",
   "execution_count": 9,
   "metadata": {},
   "outputs": [
    {
     "data": {
      "text/plain": [
       "<bound method DataFrame.info of                                                    Text\n",
       "0     Mangesh v State Of Maharashtra Supreme Court o...\n",
       "1     East India Tobacco Company v State of Andhra P...\n",
       "2     Mahavir Prashad Gupta and Another v State of N...\n",
       "3     Uptron India Limited v Shammi Bhan and Another...\n",
       "4     Shri Bodhisattwa Gautam v Miss Subhra Chakrabo...\n",
       "...                                                 ...\n",
       "2908  Sangappa and Others v State of Karnataka Supre...\n",
       "2909  Ramdas v State Of Madhya Pradesh Supreme Court...\n",
       "2910  Ashok Dhingra v N.C.T. of Delhi Supreme Court ...\n",
       "2911  Prafulla Kumar Das and Others with Pradip Chan...\n",
       "2912  M. K. Gopalan and Another v State of Madhya Pr...\n",
       "\n",
       "[2913 rows x 1 columns]>"
      ]
     },
     "execution_count": 9,
     "metadata": {},
     "output_type": "execute_result"
    }
   ],
   "source": [
    "df.info"
   ]
  },
  {
   "cell_type": "code",
   "execution_count": 10,
   "metadata": {},
   "outputs": [
    {
     "data": {
      "text/plain": [
       "Text    object\n",
       "dtype: object"
      ]
     },
     "execution_count": 10,
     "metadata": {},
     "output_type": "execute_result"
    }
   ],
   "source": [
    "df.dtypes"
   ]
  },
  {
   "cell_type": "code",
   "execution_count": 11,
   "metadata": {},
   "outputs": [
    {
     "name": "stdout",
     "output_type": "stream",
     "text": [
      "Text    Mangesh v State Of Maharashtra Supreme Court o...\n",
      "Name: 0, dtype: object\n",
      "['text', 'mangesh', 'v', 'state', 'of', 'maharashtra', 'supreme', 'court', 'o', 'name', '0', 'dtype', 'object']\n"
     ]
    }
   ],
   "source": [
    "import re\n",
    "#Conver lowercase remove punctuation and Character and then strip \n",
    "text = df.iloc[0]\n",
    "print(text)\n",
    "text = re.sub(r'[^\\w\\s]', '', str(text).lower().strip())\n",
    "txt = text.split()\n",
    "print(txt)"
   ]
  },
  {
   "cell_type": "code",
   "execution_count": 12,
   "metadata": {},
   "outputs": [
    {
     "name": "stdout",
     "output_type": "stream",
     "text": [
      "['text', 'mangesh', 'v', 'state', 'maharashtra', 'supreme', 'court', 'name', '0', 'dtype', 'object']\n"
     ]
    }
   ],
   "source": [
    "#remove stopwords\n",
    "import nltk\n",
    "lst_stopwords = nltk.corpus.stopwords.words(\"english\")\n",
    "txt = [word for word in txt if word not in lst_stopwords]\n",
    "print(txt)"
   ]
  },
  {
   "cell_type": "code",
   "execution_count": 13,
   "metadata": {},
   "outputs": [
    {
     "name": "stdout",
     "output_type": "stream",
     "text": [
      "['text', 'mangesh', 'v', 'state', 'maharashtra', 'suprem', 'court', 'name', '0', 'dtype', 'object']\n"
     ]
    }
   ],
   "source": [
    "#stemming\n",
    "ps = nltk.stem.porter.PorterStemmer()\n",
    "print([ps.stem(word) for word in txt])"
   ]
  },
  {
   "cell_type": "code",
   "execution_count": 14,
   "metadata": {},
   "outputs": [
    {
     "name": "stderr",
     "output_type": "stream",
     "text": [
      "[nltk_data] Downloading package wordnet to\n",
      "[nltk_data]     /home/ananyapam/nltk_data...\n",
      "[nltk_data]   Package wordnet is already up-to-date!\n"
     ]
    },
    {
     "name": "stdout",
     "output_type": "stream",
     "text": [
      "['text', 'mangesh', 'v', 'state', 'maharashtra', 'supreme', 'court', 'name', '0', 'dtype', 'object']\n"
     ]
    }
   ],
   "source": [
    "#Lemmentization\n",
    "nltk.download('wordnet')\n",
    "lem = nltk.stem.wordnet.WordNetLemmatizer()\n",
    "print([lem.lemmatize(word) for word in txt])"
   ]
  },
  {
   "cell_type": "code",
   "execution_count": 16,
   "metadata": {},
   "outputs": [],
   "source": [
    "#to apply all the technique to all the records on dataset\n",
    "def utils_preprocess_text(text, flg_stemm=True, flg_lemm =True, lst_stopwords=None ):\n",
    "    text = re.sub(r'[^\\w\\s]', '', str(text).lower().strip())\n",
    "    \n",
    "    #tokenization(convert from string to List)\n",
    "    lst_text = text.split()\n",
    "    #remove stopwords\n",
    "    if lst_stopwords is not None:\n",
    "        lst_text = [word for word in lst_text if word not in\n",
    "                   lst_stopwords]\n",
    "        \n",
    "     #stemming\n",
    "    if flg_stemm == True:\n",
    "        ps = nltk.stem.porter.PorterStemmer()\n",
    "        lst_text = [ps.stem(word) for word in lst_text]\n",
    "        \n",
    "    #Lemmentization\n",
    "    if flg_lemm == True:\n",
    "        lem = nltk.stem.wordnet.WordNetLemmatizer()\n",
    "        lst_text = [lem.lemmatize(word) for word in lst_text]\n",
    "        \n",
    "    # back to string from list\n",
    "    text = \" \".join(lst_text)\n",
    "    return text"
   ]
  },
  {
   "cell_type": "code",
   "execution_count": 17,
   "metadata": {},
   "outputs": [],
   "source": [
    "df['clean_text'] = df['Text'].apply(lambda x: utils_preprocess_text(x, flg_stemm = False, flg_lemm=True))"
   ]
  },
  {
   "cell_type": "code",
   "execution_count": 18,
   "metadata": {},
   "outputs": [
    {
     "data": {
      "text/html": [
       "<div>\n",
       "<style scoped>\n",
       "    .dataframe tbody tr th:only-of-type {\n",
       "        vertical-align: middle;\n",
       "    }\n",
       "\n",
       "    .dataframe tbody tr th {\n",
       "        vertical-align: top;\n",
       "    }\n",
       "\n",
       "    .dataframe thead th {\n",
       "        text-align: right;\n",
       "    }\n",
       "</style>\n",
       "<table border=\"1\" class=\"dataframe\">\n",
       "  <thead>\n",
       "    <tr style=\"text-align: right;\">\n",
       "      <th></th>\n",
       "      <th>Text</th>\n",
       "      <th>clean_text</th>\n",
       "    </tr>\n",
       "  </thead>\n",
       "  <tbody>\n",
       "    <tr>\n",
       "      <th>0</th>\n",
       "      <td>Mangesh v State Of Maharashtra Supreme Court o...</td>\n",
       "      <td>mangesh v state of maharashtra supreme court o...</td>\n",
       "    </tr>\n",
       "    <tr>\n",
       "      <th>1</th>\n",
       "      <td>East India Tobacco Company v State of Andhra P...</td>\n",
       "      <td>east india tobacco company v state of andhra p...</td>\n",
       "    </tr>\n",
       "    <tr>\n",
       "      <th>2</th>\n",
       "      <td>Mahavir Prashad Gupta and Another v State of N...</td>\n",
       "      <td>mahavir prashad gupta and another v state of n...</td>\n",
       "    </tr>\n",
       "    <tr>\n",
       "      <th>3</th>\n",
       "      <td>Uptron India Limited v Shammi Bhan and Another...</td>\n",
       "      <td>uptron india limited v shammi bhan and another...</td>\n",
       "    </tr>\n",
       "    <tr>\n",
       "      <th>4</th>\n",
       "      <td>Shri Bodhisattwa Gautam v Miss Subhra Chakrabo...</td>\n",
       "      <td>shri bodhisattwa gautam v miss subhra chakrabo...</td>\n",
       "    </tr>\n",
       "    <tr>\n",
       "      <th>...</th>\n",
       "      <td>...</td>\n",
       "      <td>...</td>\n",
       "    </tr>\n",
       "    <tr>\n",
       "      <th>2908</th>\n",
       "      <td>Sangappa and Others v State of Karnataka Supre...</td>\n",
       "      <td>sangappa and others v state of karnataka supre...</td>\n",
       "    </tr>\n",
       "    <tr>\n",
       "      <th>2909</th>\n",
       "      <td>Ramdas v State Of Madhya Pradesh Supreme Court...</td>\n",
       "      <td>ramdas v state of madhya pradesh supreme court...</td>\n",
       "    </tr>\n",
       "    <tr>\n",
       "      <th>2910</th>\n",
       "      <td>Ashok Dhingra v N.C.T. of Delhi Supreme Court ...</td>\n",
       "      <td>ashok dhingra v nct of delhi supreme court of ...</td>\n",
       "    </tr>\n",
       "    <tr>\n",
       "      <th>2911</th>\n",
       "      <td>Prafulla Kumar Das and Others with Pradip Chan...</td>\n",
       "      <td>prafulla kumar da and others with pradip chand...</td>\n",
       "    </tr>\n",
       "    <tr>\n",
       "      <th>2912</th>\n",
       "      <td>M. K. Gopalan and Another v State of Madhya Pr...</td>\n",
       "      <td>m k gopalan and another v state of madhya prad...</td>\n",
       "    </tr>\n",
       "  </tbody>\n",
       "</table>\n",
       "<p>2913 rows × 2 columns</p>\n",
       "</div>"
      ],
      "text/plain": [
       "                                                   Text  \\\n",
       "0     Mangesh v State Of Maharashtra Supreme Court o...   \n",
       "1     East India Tobacco Company v State of Andhra P...   \n",
       "2     Mahavir Prashad Gupta and Another v State of N...   \n",
       "3     Uptron India Limited v Shammi Bhan and Another...   \n",
       "4     Shri Bodhisattwa Gautam v Miss Subhra Chakrabo...   \n",
       "...                                                 ...   \n",
       "2908  Sangappa and Others v State of Karnataka Supre...   \n",
       "2909  Ramdas v State Of Madhya Pradesh Supreme Court...   \n",
       "2910  Ashok Dhingra v N.C.T. of Delhi Supreme Court ...   \n",
       "2911  Prafulla Kumar Das and Others with Pradip Chan...   \n",
       "2912  M. K. Gopalan and Another v State of Madhya Pr...   \n",
       "\n",
       "                                             clean_text  \n",
       "0     mangesh v state of maharashtra supreme court o...  \n",
       "1     east india tobacco company v state of andhra p...  \n",
       "2     mahavir prashad gupta and another v state of n...  \n",
       "3     uptron india limited v shammi bhan and another...  \n",
       "4     shri bodhisattwa gautam v miss subhra chakrabo...  \n",
       "...                                                 ...  \n",
       "2908  sangappa and others v state of karnataka supre...  \n",
       "2909  ramdas v state of madhya pradesh supreme court...  \n",
       "2910  ashok dhingra v nct of delhi supreme court of ...  \n",
       "2911  prafulla kumar da and others with pradip chand...  \n",
       "2912  m k gopalan and another v state of madhya prad...  \n",
       "\n",
       "[2913 rows x 2 columns]"
      ]
     },
     "execution_count": 18,
     "metadata": {},
     "output_type": "execute_result"
    }
   ],
   "source": [
    "df"
   ]
  },
  {
   "cell_type": "code",
   "execution_count": null,
   "metadata": {},
   "outputs": [],
   "source": [
    "import texthero as hero\n",
    "from texthero import preprocessing"
   ]
  },
  {
   "cell_type": "code",
   "execution_count": null,
   "metadata": {},
   "outputs": [],
   "source": [
    "df['tfidf'] = hero.tfidf(df['clean_text'])"
   ]
  }
 ],
 "metadata": {
  "kernelspec": {
   "display_name": "Python 3",
   "language": "python",
   "name": "python3"
  },
  "language_info": {
   "codemirror_mode": {
    "name": "ipython",
    "version": 3
   },
   "file_extension": ".py",
   "mimetype": "text/x-python",
   "name": "python",
   "nbconvert_exporter": "python",
   "pygments_lexer": "ipython3",
   "version": "3.6.9"
  }
 },
 "nbformat": 4,
 "nbformat_minor": 4
}
